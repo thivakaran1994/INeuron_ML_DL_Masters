{
 "cells": [
  {
   "cell_type": "markdown",
   "metadata": {},
   "source": [
    "## Ans for question- 1"
   ]
  },
  {
   "cell_type": "code",
   "execution_count": 1,
   "metadata": {},
   "outputs": [
    {
     "name": "stdout",
     "output_type": "stream",
     "text": [
      "division by zero\n"
     ]
    }
   ],
   "source": [
    "def divide_five_by_zero():\n",
    "    try:\n",
    "        ans = 5/0\n",
    "    except ZeroDivisionError as ex:\n",
    "        print(ex)\n",
    "    return\n",
    "divide_five_by_zero()"
   ]
  },
  {
   "cell_type": "markdown",
   "metadata": {},
   "source": [
    "## Ans for question-2"
   ]
  },
  {
   "cell_type": "code",
   "execution_count": 6,
   "metadata": {},
   "outputs": [
    {
     "name": "stdout",
     "output_type": "stream",
     "text": [
      "Americans play Baseball.\n",
      "Americans play Cricket.\n",
      "Americans watch Baseball.\n",
      "Americans watch Cricket.\n",
      "Indians play Baseball.\n",
      "Indians play Cricket.\n",
      "Indians watch Baseball.\n",
      "Indians watch Cricket.\n"
     ]
    }
   ],
   "source": [
    "def make_sentences():\n",
    "    subjects=[\"Americans\", \"Indians\"]\n",
    "    verbs=[\"play\", \"watch\"]\n",
    "    objects=[\"Baseball\", \"Cricket\"]\n",
    "    sentences = [\n",
    "        ' '.join([sub, ver, obj])\n",
    "        for sub in subjects\n",
    "        for ver in verbs\n",
    "        for obj in objects\n",
    "    ]\n",
    "    for sen in sentences:\n",
    "        print(\"%s.\" % sen)\n",
    "make_sentences()"
   ]
  },
  {
   "cell_type": "code",
   "execution_count": null,
   "metadata": {},
   "outputs": [],
   "source": []
  }
 ],
 "metadata": {
  "kernelspec": {
   "display_name": "Python 3",
   "language": "python",
   "name": "python3"
  },
  "language_info": {
   "codemirror_mode": {
    "name": "ipython",
    "version": 3
   },
   "file_extension": ".py",
   "mimetype": "text/x-python",
   "name": "python",
   "nbconvert_exporter": "python",
   "pygments_lexer": "ipython3",
   "version": "3.8.5"
  }
 },
 "nbformat": 4,
 "nbformat_minor": 4
}
