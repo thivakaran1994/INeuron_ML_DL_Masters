{
 "cells": [
  {
   "cell_type": "markdown",
   "metadata": {},
   "source": [
    "## Ans for question-1.1"
   ]
  },
  {
   "cell_type": "code",
   "execution_count": 32,
   "metadata": {},
   "outputs": [],
   "source": [
    "import math\n",
    "from functools import reduce\n",
    "\n",
    "class Polygon(object):\n",
    "    \"\"\"Generic class for a polygon to hold its length of sides\"\"\"\n",
    "    \n",
    "    def __init__(self, no_of_sides):\n",
    "        self.no_of_sides = no_of_sides\n",
    "        self.length_of_sides = []\n",
    "    \n",
    "    def get_lengh_of_sides(self):\n",
    "        for i in range(1, 1 + self.no_of_sides):\n",
    "            print(\"Enter the length of side {} : \".format(i))\n",
    "            self.length_of_sides.append(float(input()))\n",
    "\n",
    "class Triangle(Polygon):\n",
    "    \"\"\"to have specific property for polygon Triangle\"\"\"\n",
    "    def area(self):\n",
    "        \"\"\"Calculate the area of the triangle and return it\"\"\"\n",
    "        semi_peri = sum(self.length_of_sides)/2\n",
    "        diff_btw_side_and_semi_peri = [(semi_peri - l) for l in self.length_of_sides]\n",
    "        area_ = math.sqrt(reduce(lambda x,y : x*y, ([semi_peri] + diff_btw_side_and_semi_peri)))\n",
    "        return area_"
   ]
  },
  {
   "cell_type": "markdown",
   "metadata": {},
   "source": [
    "## Ans for question-1.2"
   ]
  },
  {
   "cell_type": "code",
   "execution_count": 1,
   "metadata": {},
   "outputs": [],
   "source": [
    "def filter_long_words(words, len_thr):\n",
    "    \"\"\"\n",
    "    Takes a list of words and an integer len_thr and returns\n",
    "    the list of words that are longer than specified threshold(len_thr).\n",
    "    \"\"\"\n",
    "    return [word for word in words if len(word) > len_thr]"
   ]
  },
  {
   "cell_type": "markdown",
   "metadata": {},
   "source": [
    "## Ans for question-2.1"
   ]
  },
  {
   "cell_type": "code",
   "execution_count": 6,
   "metadata": {},
   "outputs": [],
   "source": [
    "def map_word_to_num(words):\n",
    "    \"\"\"\n",
    "    Maps list of words into a list of integers\n",
    "    representing the lengths of the corresponding words.\n",
    "    \"\"\"\n",
    "    return [len(word) for word in words]"
   ]
  },
  {
   "cell_type": "markdown",
   "metadata": {},
   "source": [
    "## Ans for question-2.2"
   ]
  },
  {
   "cell_type": "code",
   "execution_count": 8,
   "metadata": {},
   "outputs": [],
   "source": [
    "def vowel_detector(letter):\n",
    "    \"\"\"\n",
    "    Takes a character (i.e. a string of length 1) and returns True if\n",
    "    it is a vowel, False otherwise.\n",
    "    \"\"\"\n",
    "    assert len(letter) ==1, \"letter should be a character\"\n",
    "    vowels = ['A', 'E', 'I', 'O', 'U']\n",
    "    return letter.upper() in vowels"
   ]
  }
 ],
 "metadata": {
  "kernelspec": {
   "display_name": "Python 3",
   "language": "python",
   "name": "python3"
  },
  "language_info": {
   "codemirror_mode": {
    "name": "ipython",
    "version": 3
   },
   "file_extension": ".py",
   "mimetype": "text/x-python",
   "name": "python",
   "nbconvert_exporter": "python",
   "pygments_lexer": "ipython3",
   "version": "3.8.5"
  }
 },
 "nbformat": 4,
 "nbformat_minor": 4
}
