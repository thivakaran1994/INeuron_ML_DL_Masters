{
 "cells": [
  {
   "cell_type": "code",
   "execution_count": 1,
   "metadata": {},
   "outputs": [],
   "source": [
    "import numpy as np"
   ]
  },
  {
   "cell_type": "markdown",
   "metadata": {},
   "source": [
    "## Ans for Q1"
   ]
  },
  {
   "cell_type": "code",
   "execution_count": 2,
   "metadata": {},
   "outputs": [],
   "source": [
    "def compute_vander_matrix(vector, N=None, increasing=False):\n",
    "    \"\"\"\n",
    "    compute the Alexandre-Theophile Vandermonde matrix of a vector.\n",
    "    The order of the powers is determined by the increasing boolean argument. Specifically, when\n",
    "    increasing is False, the i-th output column is the input vector raised element-wise to the power\n",
    "    of N - i - 1.\n",
    "    :param vector:1-D input array\n",
    "    :param N: int, optional, Number of columns in the output.\n",
    "              If N is not specified, a square array is returned (N = len(x)).\n",
    "    :param increasing: bool, optional\n",
    "                       Order of the powers of the columns. If True, the powers\n",
    "                       increase from left to right, if False (the default) they are reversed.\n",
    "    \"\"\"\n",
    "    max_order = N if N else vector.shape[0]\n",
    "    vec = vector.reshape(-1, 1)\n",
    "    if increasing:\n",
    "        order_of_power = range(max_order)\n",
    "    else:\n",
    "        order_of_power = range(max_order-1, -1, -1)\n",
    "    \n",
    "    powers = [\n",
    "        np.power(vec, ord_)\n",
    "        for ord_ in order_of_power\n",
    "    ]\n",
    "    return np.hstack(powers)"
   ]
  },
  {
   "cell_type": "code",
   "execution_count": 3,
   "metadata": {},
   "outputs": [
    {
     "name": "stdout",
     "output_type": "stream",
     "text": [
      "[[ 27   9   3   1]\n",
      " [216  36   6   1]\n",
      " [343  49   7   1]\n",
      " [512  64   8   1]]\n"
     ]
    }
   ],
   "source": [
    "inp = np.array([3, 6, 7, 8])\n",
    "print(compute_vander_matrix(inp))"
   ]
  },
  {
   "cell_type": "markdown",
   "metadata": {},
   "source": [
    "## Ans for Q2"
   ]
  },
  {
   "cell_type": "code",
   "execution_count": 4,
   "metadata": {},
   "outputs": [
    {
     "data": {
      "text/plain": [
       "[5.0,\n",
       " 4.666666666666667,\n",
       " 5.666666666666667,\n",
       " 6.666666666666667,\n",
       " 9.666666666666666,\n",
       " 28.666666666666668,\n",
       " 49.333333333333336,\n",
       " 72.66666666666667,\n",
       " 84.0,\n",
       " 93.33333333333333,\n",
       " 116.33333333333333]"
      ]
     },
     "execution_count": 4,
     "metadata": {},
     "output_type": "execute_result"
    }
   ],
   "source": [
    "def find_moving_avg(seq, window_size):\n",
    "    \"\"\"\n",
    "    Find moving average in an array over a window:\n",
    "    \"\"\"\n",
    "    avgs = []\n",
    "    no_of_possible_mv_avg = seq.shape[0] - window_size + 1\n",
    "    for i in range(no_of_possible_mv_avg):\n",
    "        avgs.append(np.average(seq[i: i+ window_size]))\n",
    "    return avgs\n",
    "\n",
    "inp = np.array([3, 5, 7, 2, 8, 10, 11, 65, 72, 81, 99, 100, 150])\n",
    "find_moving_avg(inp, 3)"
   ]
  },
  {
   "cell_type": "code",
   "execution_count": null,
   "metadata": {},
   "outputs": [],
   "source": []
  }
 ],
 "metadata": {
  "kernelspec": {
   "display_name": "Python 3",
   "language": "python",
   "name": "python3"
  },
  "language_info": {
   "codemirror_mode": {
    "name": "ipython",
    "version": 3
   },
   "file_extension": ".py",
   "mimetype": "text/x-python",
   "name": "python",
   "nbconvert_exporter": "python",
   "pygments_lexer": "ipython3",
   "version": "3.8.5"
  }
 },
 "nbformat": 4,
 "nbformat_minor": 4
}
