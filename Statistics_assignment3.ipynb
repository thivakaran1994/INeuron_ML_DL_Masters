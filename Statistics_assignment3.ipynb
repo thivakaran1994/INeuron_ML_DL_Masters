{
 "cells": [
  {
   "cell_type": "markdown",
   "metadata": {},
   "source": [
    "## Problem Statement 1:\n",
    "Blood glucose levels for obese patients have a mean of 100 with a standard deviation of 15. A researcher thinks that a diet high in raw cornstarch will have a positive effect on blood glucose levels. A sample of 36 patients who have tried the raw cornstarch diet have a mean glucose level of 108. Test the hypothesis that the raw cornstarch had an effect or not."
   ]
  },
  {
   "cell_type": "markdown",
   "metadata": {},
   "source": [
    "H0: The raw cornstarch had no effect\n",
    "\n",
    "H1: The raw cornstarch has positive effect\n",
    "\n",
    "- Upper tail test\n",
    "- Since n greater than 30 and population varaince is known, we can use Z_test for testing the hypothesis"
   ]
  },
  {
   "cell_type": "code",
   "execution_count": 15,
   "metadata": {},
   "outputs": [
    {
     "data": {
      "text/plain": [
       "3.2"
      ]
     },
     "execution_count": 15,
     "metadata": {},
     "output_type": "execute_result"
    }
   ],
   "source": [
    "Z_test = (108 - 100)/(15/6)\n",
    "Z_test"
   ]
  },
  {
   "cell_type": "markdown",
   "metadata": {},
   "source": [
    "P_value = Pr( z > Z_test) = Pr(z > 3.2) = 1 - 0.9993 = 0.0007\n",
    "\n",
    "Since P_value is lower than 0.05 we can reject the null hypothesis. Thus, the raw cornstarch has positive effect on obese patients"
   ]
  },
  {
   "cell_type": "markdown",
   "metadata": {},
   "source": [
    "## Problem Statement 2:\n",
    "In one state, 52% of the voters are Republicans, and 48% are Democrats. In a second\n",
    "state, 47% of the voters are Republicans, and 53% are Democrats. Suppose a simple\n",
    "random sample of 100 voters are surveyed from each state.\n",
    "What is the probability that the survey will show a greater percentage of Republican\n",
    "voters in the second state than in the first state?"
   ]
  },
  {
   "cell_type": "code",
   "execution_count": 8,
   "metadata": {},
   "outputs": [
    {
     "name": "stdout",
     "output_type": "stream",
     "text": [
      "mu: 0.050000000000000044\n",
      "std: 0.07061869440877536\n",
      "Z_p1_p2 : -0.7080278164104213\n"
     ]
    }
   ],
   "source": [
    "import math\n",
    "n1 = 100\n",
    "n2 = 100\n",
    "R1 = 0.52            # Republicans in  state 1\n",
    "D1 = 0.48            # Democrats in state 1\n",
    "R2 = 0.47            # Republicans in state 2\n",
    "D2 = 0.53            # Democrats in state 2\n",
    "\n",
    "mu = R1 - R2\n",
    "print(f\"mu: {mu}\")\n",
    "\n",
    "std = math.sqrt(((R1 * D1 ) / n1) + ((R2 * D2) /n2))\n",
    "print(f\"std: {std}\")\n",
    "\n",
    "#This problem requires us to find the probability that p1 is less than p2. \n",
    "#This is equivalent to finding the probability that R1 - R2 < 0. \n",
    "x = 0\n",
    "\n",
    "#To find this probability, we need to transform the random variable (R1 - R2) into a z-score. \n",
    "#That transformation appears below.\n",
    "\n",
    "Z_R1_R2 = ( x - mu)/std\n",
    "print(f\"Z_p1_p2 : {Z_R1_R2}\")\n"
   ]
  },
  {
   "cell_type": "markdown",
   "metadata": {},
   "source": [
    "- From Z table we find that the probability of a z-score being -0.7082 or less is 0.24\n",
    "\n",
    "- Thus, the probability that the survey will show a greater percentage of Republican voters  in the second state than in the first state is 0.24"
   ]
  },
  {
   "cell_type": "markdown",
   "metadata": {},
   "source": [
    "## Problem Statement 3:\n",
    "You take the SAT and score 1100. The mean score for the SAT is 1026 and the standard\n",
    "deviation is 209. How well did you score on the test compared to the average test taker?"
   ]
  },
  {
   "cell_type": "code",
   "execution_count": 1,
   "metadata": {},
   "outputs": [
    {
     "data": {
      "text/plain": [
       "0.35406698564593303"
      ]
     },
     "execution_count": 1,
     "metadata": {},
     "output_type": "execute_result"
    }
   ],
   "source": [
    "mean = 1026\n",
    "sigma = 209\n",
    "x = 1100\n",
    "\n",
    "z_test = (x - mean)/sigma\n",
    "z_test"
   ]
  },
  {
   "cell_type": "markdown",
   "metadata": {},
   "source": [
    "- Z-score of my test score is around 0.35\n",
    "- Pr(z > z_test) = 0.3631\n",
    "- So, Person with SAT score 1100 have ranked among the top 37%"
   ]
  }
 ],
 "metadata": {
  "kernelspec": {
   "display_name": "Python 3",
   "language": "python",
   "name": "python3"
  },
  "language_info": {
   "codemirror_mode": {
    "name": "ipython",
    "version": 3
   },
   "file_extension": ".py",
   "mimetype": "text/x-python",
   "name": "python",
   "nbconvert_exporter": "python",
   "pygments_lexer": "ipython3",
   "version": "3.7.4"
  }
 },
 "nbformat": 4,
 "nbformat_minor": 2
}
