{
 "cells": [
  {
   "cell_type": "markdown",
   "metadata": {},
   "source": [
    "### Problem Statement 1:\n",
    "Is gender independent of education level? A random sample of 395 people were\n",
    "surveyed and each person was asked to report the highest education level they\n",
    "obtained. The data that resulted from the survey is summarized in the following table:\n",
    "\n",
    "High School Bachelors Masters Ph.d. Total\n",
    "\n",
    "Female 60 54 46 41 201\n",
    "\n",
    "Male 40 44 53 57 194\n",
    "\n",
    "Total 100 98 99 98 395\n",
    "\n",
    "Question: Are gender and education level dependent at 5% level of significance? In\n",
    "other words, given the data collected above, is there a relationship between the\n",
    "gender of an individual and the level of education that they have obtained?"
   ]
  },
  {
   "cell_type": "code",
   "execution_count": 2,
   "metadata": {},
   "outputs": [],
   "source": [
    "import numpy as np\n",
    "from scipy.stats import chi2_contingency"
   ]
  },
  {
   "cell_type": "markdown",
   "metadata": {},
   "source": [
    "Ans:\n",
    "\n",
    "H0: There is no relationship between the gender of an individual and the level of education that they have obtained\n",
    "\n",
    "H1: There is a relationship between the gender of an individual and the level of education that they have obtained"
   ]
  },
  {
   "cell_type": "code",
   "execution_count": 4,
   "metadata": {},
   "outputs": [],
   "source": [
    "observed_vals = np.array([[60, 54, 46, 41],\n",
    "                          [40, 44, 53, 57]])"
   ]
  },
  {
   "cell_type": "code",
   "execution_count": 5,
   "metadata": {},
   "outputs": [
    {
     "name": "stdout",
     "output_type": "stream",
     "text": [
      "chi2 statistics is 8.006066246262538\n",
      "P value is 0.045886500891747214\n",
      "Dof is 3\n",
      "Expected is [[50.88607595 49.86835443 50.37721519 49.86835443]\n",
      " [49.11392405 48.13164557 48.62278481 48.13164557]]\n"
     ]
    }
   ],
   "source": [
    "chi2, p, dof, expected = chi2_contingency(observed_vals)\n",
    "print(\"chi2 statistics is {}\".format(chi2))\n",
    "print(\"P value is {}\".format(p))\n",
    "print(\"Dof is {}\".format(dof))\n",
    "print(\"Expected is {}\".format(expected))"
   ]
  },
  {
   "cell_type": "markdown",
   "metadata": {},
   "source": [
    "- Since the P value (0.046) is lower than the given significnt level, we can reject the null hypothesis. Thus, gender and education level are dependent at 5% level of significance."
   ]
  },
  {
   "cell_type": "markdown",
   "metadata": {},
   "source": [
    "## Problem Statement 2:\n",
    "Using the following data, perform a oneway analysis of variance using α=.05. Write\n",
    "up the results in APA format.\n",
    "\n",
    "[Group1: 51, 45, 33, 45, 67]\n",
    "\n",
    "[Group2: 23, 43, 23, 43, 45]\n",
    "\n",
    "[Group3: 56, 76, 74, 87, 56]"
   ]
  },
  {
   "cell_type": "markdown",
   "metadata": {},
   "source": [
    "Ans:\n",
    "\n",
    "H0: There is no significant difference in mean\n",
    "\n",
    "H1: There is significant difference in mean\n",
    "\n",
    "Method: 1"
   ]
  },
  {
   "cell_type": "code",
   "execution_count": 6,
   "metadata": {},
   "outputs": [],
   "source": [
    "g1 = np.array([ 51, 45, 33, 45, 67])\n",
    "g2 = np.array([23, 43, 23, 43, 45])\n",
    "g3 = np.array([56, 76, 74, 87, 56])"
   ]
  },
  {
   "cell_type": "code",
   "execution_count": 7,
   "metadata": {},
   "outputs": [],
   "source": [
    "mean_g1 = np.mean(g1)\n",
    "mean_g2 = np.mean(g2)\n",
    "mean_g3 = np.mean(g3)"
   ]
  },
  {
   "cell_type": "code",
   "execution_count": 8,
   "metadata": {},
   "outputs": [
    {
     "data": {
      "text/plain": [
       "51.133333333333326"
      ]
     },
     "execution_count": 8,
     "metadata": {},
     "output_type": "execute_result"
    }
   ],
   "source": [
    "grand_mean = (mean_g1 + mean_g2 + mean_g3)/3\n",
    "grand_mean"
   ]
  },
  {
   "cell_type": "code",
   "execution_count": 10,
   "metadata": {},
   "outputs": [
    {
     "data": {
      "text/plain": [
       "1860.8"
      ]
     },
     "execution_count": 10,
     "metadata": {},
     "output_type": "execute_result"
    }
   ],
   "source": [
    "SSW = np.sum((g1-mean_g1)**2) + np.sum((g2 - mean_g2)**2) + np.sum((g3 -mean_g3)**2)\n",
    "SSW"
   ]
  },
  {
   "cell_type": "code",
   "execution_count": 12,
   "metadata": {},
   "outputs": [
    {
     "data": {
      "text/plain": [
       "3022.933333333333"
      ]
     },
     "execution_count": 12,
     "metadata": {},
     "output_type": "execute_result"
    }
   ],
   "source": [
    "SSB = (len(g1) * ((mean_g1- grand_mean)**2)) + (len(g2) * ((mean_g2- grand_mean)**2)) + (len(g3) * ((mean_g3- grand_mean)**2))\n",
    "SSB"
   ]
  },
  {
   "cell_type": "code",
   "execution_count": 13,
   "metadata": {},
   "outputs": [
    {
     "data": {
      "text/plain": [
       "9.747205503009457"
      ]
     },
     "execution_count": 13,
     "metadata": {},
     "output_type": "execute_result"
    }
   ],
   "source": [
    "F_stats = (SSB/2)/(SSW/12)\n",
    "F_stats"
   ]
  },
  {
   "cell_type": "markdown",
   "metadata": {},
   "source": [
    "df_num = 2\n",
    "\n",
    "df_denom = 12\n",
    "\n",
    "The value of F_alpha (where df_num=2 , df_denom=12 and alpha = 0.05) is 3.89\n",
    "\n",
    "- since F_stats falls into critical region, we can reject the nul hypothesis. Thus, there is significant difference in the mean value of each group.\n",
    "\n",
    "Method-2"
   ]
  },
  {
   "cell_type": "code",
   "execution_count": 15,
   "metadata": {},
   "outputs": [],
   "source": [
    "from scipy.stats import f_oneway"
   ]
  },
  {
   "cell_type": "code",
   "execution_count": 16,
   "metadata": {},
   "outputs": [
    {
     "data": {
      "text/plain": [
       "(9.747205503009463, 0.0030597541434430556)"
      ]
     },
     "execution_count": 16,
     "metadata": {},
     "output_type": "execute_result"
    }
   ],
   "source": [
    "stats, pValue = f_oneway(g1, g2, g3)\n",
    "stats, pValue"
   ]
  },
  {
   "cell_type": "markdown",
   "metadata": {},
   "source": [
    "- since P-value is lower than 0.05, we can reject the nul hypothesis. Thus, there is significant difference in the mean value of each group."
   ]
  },
  {
   "cell_type": "markdown",
   "metadata": {},
   "source": [
    "## Problem Statement 3:\n",
    "Calculate F Test for given \n",
    "10, 20, 30, 40, 50 and \n",
    "5,10,15, 20, 25.\n",
    "\n",
    "- Method-1"
   ]
  },
  {
   "cell_type": "code",
   "execution_count": 17,
   "metadata": {},
   "outputs": [
    {
     "data": {
      "text/plain": [
       "(array([10, 20, 30, 40, 50]), array([ 5, 10, 15, 20, 25]))"
      ]
     },
     "execution_count": 17,
     "metadata": {},
     "output_type": "execute_result"
    }
   ],
   "source": [
    "d1 = np.array([10, 20, 30, 40, 50])\n",
    "d2 = np.array([5,10,15, 20, 25])\n",
    "d1, d2"
   ]
  },
  {
   "cell_type": "code",
   "execution_count": 18,
   "metadata": {},
   "outputs": [
    {
     "data": {
      "text/plain": [
       "(3.6, 0.0943497728424377)"
      ]
     },
     "execution_count": 18,
     "metadata": {},
     "output_type": "execute_result"
    }
   ],
   "source": [
    "stats, pValue = f_oneway(d1, d2)\n",
    "stats, pValue"
   ]
  },
  {
   "cell_type": "code",
   "execution_count": 20,
   "metadata": {},
   "outputs": [
    {
     "name": "stdout",
     "output_type": "stream",
     "text": [
      "F Test is 3.6\n"
     ]
    }
   ],
   "source": [
    "print(f\"F Test is {stats}\")"
   ]
  },
  {
   "cell_type": "markdown",
   "metadata": {},
   "source": [
    "- Method-2"
   ]
  },
  {
   "cell_type": "code",
   "execution_count": 21,
   "metadata": {},
   "outputs": [],
   "source": [
    "d1 = np.array([10, 20, 30, 40, 50])\n",
    "d2 = np.array([5,10,15, 20, 25])"
   ]
  },
  {
   "cell_type": "code",
   "execution_count": 22,
   "metadata": {},
   "outputs": [],
   "source": [
    "mean_d1 = np.mean(d1)\n",
    "mean_d2 = np.mean(d2)"
   ]
  },
  {
   "cell_type": "code",
   "execution_count": 23,
   "metadata": {},
   "outputs": [
    {
     "data": {
      "text/plain": [
       "22.5"
      ]
     },
     "execution_count": 23,
     "metadata": {},
     "output_type": "execute_result"
    }
   ],
   "source": [
    "grand_mean = (mean_d1 + mean_d2 )/2\n",
    "grand_mean"
   ]
  },
  {
   "cell_type": "code",
   "execution_count": 24,
   "metadata": {},
   "outputs": [
    {
     "data": {
      "text/plain": [
       "1250.0"
      ]
     },
     "execution_count": 24,
     "metadata": {},
     "output_type": "execute_result"
    }
   ],
   "source": [
    "SSW = np.sum((d1-mean_d1)**2) + np.sum((d2 - mean_d2)**2)\n",
    "SSW"
   ]
  },
  {
   "cell_type": "code",
   "execution_count": 25,
   "metadata": {},
   "outputs": [
    {
     "data": {
      "text/plain": [
       "562.5"
      ]
     },
     "execution_count": 25,
     "metadata": {},
     "output_type": "execute_result"
    }
   ],
   "source": [
    "SSB = (len(d1) * ((mean_d1- grand_mean)**2)) + (len(d2) * ((mean_d2- grand_mean)**2))\n",
    "SSB"
   ]
  },
  {
   "cell_type": "code",
   "execution_count": 26,
   "metadata": {},
   "outputs": [
    {
     "data": {
      "text/plain": [
       "3.6"
      ]
     },
     "execution_count": 26,
     "metadata": {},
     "output_type": "execute_result"
    }
   ],
   "source": [
    "F_stats = (SSB/1)/(SSW/8)\n",
    "F_stats"
   ]
  },
  {
   "cell_type": "code",
   "execution_count": null,
   "metadata": {},
   "outputs": [],
   "source": []
  }
 ],
 "metadata": {
  "kernelspec": {
   "display_name": "Python 3",
   "language": "python",
   "name": "python3"
  },
  "language_info": {
   "codemirror_mode": {
    "name": "ipython",
    "version": 3
   },
   "file_extension": ".py",
   "mimetype": "text/x-python",
   "name": "python",
   "nbconvert_exporter": "python",
   "pygments_lexer": "ipython3",
   "version": "3.7.4"
  }
 },
 "nbformat": 4,
 "nbformat_minor": 2
}
