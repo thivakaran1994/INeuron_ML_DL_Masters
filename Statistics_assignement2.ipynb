{
 "cells": [
  {
   "cell_type": "code",
   "execution_count": 2,
   "metadata": {},
   "outputs": [],
   "source": [
    "import numpy as np\n",
    "import math"
   ]
  },
  {
   "cell_type": "markdown",
   "metadata": {},
   "source": [
    "## Problem Statement 1:\n",
    "In each of the following situations, state whether it is a correctly stated hypothesis\n",
    "testing problem and why?\n",
    "1. 𝐻0: 𝜇 = 25, 𝐻1: 𝜇 ≠ 25\n",
    "2. 𝐻0: 𝜎 > 10, 𝐻1: 𝜎 = 10\n",
    "3. 𝐻0: 𝑥 = 50, 𝐻1: 𝑥 ≠ 50\n",
    "4. 𝐻0: 𝑝 = 0.1, 𝐻1: 𝑝 = 0.5\n",
    "5. 𝐻0: 𝑠 = 30, 𝐻1: 𝑠 > 30"
   ]
  },
  {
   "cell_type": "code",
   "execution_count": 8,
   "metadata": {
    "scrolled": false
   },
   "outputs": [
    {
     "name": "stdout",
     "output_type": "stream",
     "text": [
      "𝐻0: 𝜇 = 25, 𝐻1: 𝜇 ≠ 25 is a correctly stated hypothesis testing problem as it is a two tail test.\n",
      "𝐻0: 𝜎 > 10, 𝐻1: 𝜎 = 10 is not a correctly stated hypothesis testing as it does not fall under any of the supported types.\n",
      "𝐻0: 𝑥 = 50, 𝐻1: 𝑥 ≠ 50 is a correctly stated hypothesis testing problem as it is a two tail test\n",
      "𝐻0: 𝑝 = 0.1, 𝐻1: 𝑝 = 0.5 is not correctly stated hypothesis as  as it does not fall under any of the supported types.\n",
      "𝐻0: 𝑠 = 30, 𝐻1: 𝑠 > 30 is is a correctly stated hypothesis testing problem as it is a upper tail test\n"
     ]
    }
   ],
   "source": [
    "print(\"𝐻0: 𝜇 = 25, 𝐻1: 𝜇 ≠ 25 is a correctly stated hypothesis testing problem as it is a two tail test.\")\n",
    "print(\"𝐻0: 𝜎 > 10, 𝐻1: 𝜎 = 10 is not a correctly stated hypothesis testing as it does not fall under any of the supported types.\")\n",
    "print(\"𝐻0: 𝑥 = 50, 𝐻1: 𝑥 ≠ 50 is a correctly stated hypothesis testing problem as it is a two tail test\")\n",
    "print(\"𝐻0: 𝑝 = 0.1, 𝐻1: 𝑝 = 0.5 is not correctly stated hypothesis as  as it does not fall under any of the supported types.\")\n",
    "print(\"𝐻0: 𝑠 = 30, 𝐻1: 𝑠 > 30 is is a correctly stated hypothesis testing problem as it is a upper tail test\")"
   ]
  },
  {
   "cell_type": "markdown",
   "metadata": {},
   "source": [
    "## Problem Statement 2:\n",
    "The college bookstore tells prospective students that the average cost of its\n",
    "textbooks is Rs. 52 with a standard deviation of Rs. 4.50. A group of smart statistics\n",
    "students thinks that the average cost is higher. To test the bookstore’s claim against\n",
    "their alternative, the students will select a random sample of size 100. Assume that\n",
    "the mean from their random sample is Rs. 52.80. Perform a hypothesis test at the\n",
    "5% level of significance and state your decision."
   ]
  },
  {
   "cell_type": "markdown",
   "metadata": {},
   "source": [
    "#### Ans:\n",
    "- H0: 𝜇 = 52, H1: 𝜇 > 52\n",
    "- n = 100\n",
    "- sigma = 4.50\n",
    "- X = 52.80\n",
    "- z_test = (X- 52)/(sigma/sqrt(n)) = 1.77\n",
    "- Upper tail test\n",
    "- alpha = 0.05\n",
    "- Pr(z > z_test) = P_value = 0.038\n",
    "\n",
    "Since P_value < alpha(0.05) we can reject the the null hypotthesis. Thus the conclusion is that the average cost is higher."
   ]
  },
  {
   "cell_type": "markdown",
   "metadata": {},
   "source": [
    "## Problem Statement 3:\n",
    "A certain chemical pollutant in the Genesee River has been constant for several\n",
    "years with mean μ = 34 ppm (parts per million) and standard deviation σ = 8 ppm. A\n",
    "group of factory representatives whose companies discharge liquids into the river is\n",
    "now claiming that they have lowered the average with improved filtration devices. A\n",
    "group of environmentalists will test to see if this is true at the 1% level of\n",
    "significance. Assume \\ that their sample of size 50 gives a mean of 32.5 ppm.\n",
    "Perform a hypothesis test at the 1% level of significance and state your decision."
   ]
  },
  {
   "cell_type": "markdown",
   "metadata": {},
   "source": [
    "#### Ans:\n",
    "- H0: 𝜇 = 34, H1: 𝜇 < 34\n",
    "- n = 50\n",
    "- sigma = 8\n",
    "- X = 32.5\n",
    "- z_test = (X- 34)/(sigma/sqrt(n)) = -1.33\n",
    "- Lower tail test\n",
    "- alpha = 0.01\n",
    "- Pr(z < z_test) = P_value = 0.0918\n",
    "\n",
    "Since P_value > alpha(0.01) we cannot reject the the null hypotthesis. Thus we can say that  a group of factory representtives haven't lowered the pollutant average with the aid of improved filteration devices."
   ]
  },
  {
   "cell_type": "markdown",
   "metadata": {},
   "source": [
    "## Problem Statement 4:\n",
    "Based on population figures and other general information on the U.S. population,\n",
    "suppose it has been estimated that, on average, a family of four in the U.S. spends\n",
    "about $1135 annually on dental expenditures. Suppose further that a regional dental\n",
    "association wants to test to determine if this figure is accurate for their area of\n",
    "country. To test this, 22 families of 4 are randomly selected from the population in\n",
    "that area of the country and a log is kept of the family’s dental expenditure for one\n",
    "year. The resulting data are given below. Assuming, that dental expenditure is\n",
    "normally distributed in the population, use the data and an alpha of 0.5 to test the\n",
    "dental association’s hypothesis.\n",
    "\n",
    "1008, 812, 1117, 1323, 1308, 1415, 831, 1021, 1287, 851, 930, 730, 699,\n",
    "\n",
    "872, 913, 944, 954, 987, 1695, 995, 1003, 994"
   ]
  },
  {
   "cell_type": "code",
   "execution_count": 2,
   "metadata": {},
   "outputs": [
    {
     "data": {
      "text/plain": [
       "(1031.3181818181818, 234.84799462314425)"
      ]
     },
     "execution_count": 2,
     "metadata": {},
     "output_type": "execute_result"
    }
   ],
   "source": [
    "samples = np.array([1008, 812, 1117, 1323, 1308, 1415, 831, 1021, 1287, 851, 930, 730, 699,\n",
    "                    872, 913, 944, 954, 987, 1695, 995, 1003, 994])\n",
    "sample_mean = np.mean(samples)\n",
    "sample_std = np.std(samples)\n",
    "sample_mean, sample_std"
   ]
  },
  {
   "cell_type": "markdown",
   "metadata": {},
   "source": [
    "#### Ans: \n",
    "Since dental expenditure is normally distributed in population, sample distribution is also normally distributed.\n",
    "\n",
    "- H0: 𝜇 = 1135, H1: 𝜇 != 1135\n",
    "- n = 22\n",
    "- sigma = unknown\n",
    "\n",
    "As sigma is unknown, population disrtribution is normally distributed and n < 30, we can use T-test\n",
    "\n",
    "T = sample_mean = 1031.32\n",
    "sample_std = s = 234.848\n",
    "- t_test = (T - 1135)/(s/sqrt(n)) = (1031.32-1135)/(234.848/sqrt(22)) = -2.07\n",
    "- Two tail test\n",
    "- DOF = n -1 = 21\n",
    "- alpha = 0.5\n",
    "\n",
    "Let's identify the t_alpha_by_2 value for which Pr( -t_alpha_by_2 > t) == 0.25, t_alpha = 0.686. \n",
    "\n",
    "As the t-test falls into critical region, we can reject the null hypothesis. \n",
    "Thus, estimated expenditure of $1135 for dental for a family of  4 is not accurate."
   ]
  },
  {
   "cell_type": "markdown",
   "metadata": {},
   "source": [
    "## Problem Statement 5:\n",
    "In a report prepared by the Economic Research Department of a major bank the\n",
    "Department manager maintains that the average annual family income on Metropolis\n",
    "is $48,432. \n",
    "\n",
    "What do you conclude about the validity of the report if a random sample\n",
    "of 400 families shows and average income of $48,574 with a standard deviation of\n",
    "2000?"
   ]
  },
  {
   "cell_type": "markdown",
   "metadata": {},
   "source": [
    "#### Ans:\n",
    "- H0: 𝜇 = 48,432, H1: 𝜇 != 48,432\n",
    "- n = 400\n",
    "- sigma = unknown\n",
    "\n",
    "As sigma is unknown, nature of population disrtribution is unknown and n > 30, we should use Z-test\n",
    "\n",
    "sample_mean = 48, 574\n",
    "sample_std = s = 2000\n",
    "- z_test = (sample_mean - 48,432)/(s/sqrt(n)) = (48574 - 48432)/(2000/sqrt(400)) = 1.42\n",
    "- Two tail test\n",
    "\n",
    "- Since alphas is not explicitly mentioned let's use alpha=0.05 for the deriving conclusion.\n",
    "- alpha = 0.05\n",
    "\n",
    "P_value = Pr(Z > z_test) = 0.0778\n",
    "\n",
    "Since P_value > 0.025 we cannot reject the null hypothesis.\n",
    "\n",
    "Conclusion: With 5% significant level we could say that the average annual family income on Metropolis is $48,432.\n"
   ]
  },
  {
   "cell_type": "markdown",
   "metadata": {},
   "source": [
    "## Problem Statement 6:\n",
    "Suppose that in past years the average price per square foot for warehouses in the\n",
    "United States has been $32.28. \n",
    "\n",
    "A national real estate investor wants to determine\n",
    "whether that figure has changed now. The investor hires a researcher who randomly\n",
    "samples 19 warehouses that are for sale across the United States and finds that the\n",
    "mean price per square foot is $31.67, \n",
    "\n",
    "with a standard deviation of $1.29. assume\n",
    "that the prices of warehouse footage are normally distributed in population. If the\n",
    "researcher uses a 5% level of significance, what statistical conclusion can be\n",
    "reached? What are the hypotheses?"
   ]
  },
  {
   "cell_type": "markdown",
   "metadata": {},
   "source": [
    "#### Ans:\n",
    "Since the prices of warehouse footage are normally distributed in population, sample distribution is also normally distributed.\n",
    "\n",
    "- H0: 𝜇 = 32.28, H1: 𝜇 != 32.28\n",
    "- n = 19\n",
    "- sigma = unknown\n",
    "\n",
    "As sigma is unknown, population disrtribution is normally distributed and n < 30, we can use T-test\n",
    "\n",
    "T = sample_mean = 31.67\n",
    "sample_std = s = 1.29\n",
    "- t_test = (T - 32.28)/(s/sqrt(n)) = (31.67 - 32.68)/(1.29/sqrt(19)) = -3.413\n",
    "- Two tail test\n",
    "- DOF = n -1 = 18\n",
    "- alpha = 0.05\n",
    "\n",
    "Let's identify the t_alpha_by_2 value for which Pr( -t_alpha_by_2 > t) == 0.025, t_alpha = 2.101 \n",
    "\n",
    "As the t-test falls into critical region, we can reject the null hypothesis. \n",
    "Thus, the average price per square foot for warehouses in the United States has been changed from $32.28."
   ]
  },
  {
   "cell_type": "markdown",
   "metadata": {},
   "source": [
    "## Problem Statement 7:\n",
    "Fill in the blank spaces in the table and draw your conclusions from it."
   ]
  },
  {
   "cell_type": "markdown",
   "metadata": {},
   "source": [
    "1) Acceptance region 48.5 < x < 51.5"
   ]
  },
  {
   "cell_type": "code",
   "execution_count": 6,
   "metadata": {},
   "outputs": [
    {
     "name": "stdout",
     "output_type": "stream",
     "text": [
      "-4.427188724235731\n",
      "-0.6324555320336759\n",
      "Beta at Mu1 = 52 is : 0.2643\n"
     ]
    }
   ],
   "source": [
    "# Calculate Beta at Mu1 = 52\n",
    "n1 = 10\n",
    "Sig =2.5\n",
    "Mu1 =52\n",
    "\n",
    "p11 = (48.5 - Mu1)/(Sig/math.sqrt(n1))\n",
    "print(p11)\n",
    "p12 = (51.5 - Mu1)/(Sig/math.sqrt(n1))\n",
    "print(p12)\n",
    "\n",
    "# As p12 > p11, so our z score lies in between these two p12 < z < p11.\n",
    "# Find probability at these z score\n",
    "P11 = 0\n",
    "P12 = 0.2643\n",
    "\n",
    "Beta11 = P12 - P11\n",
    "print(f\"Beta at Mu1 = 52 is : {Beta11}\")"
   ]
  },
  {
   "cell_type": "code",
   "execution_count": 7,
   "metadata": {},
   "outputs": [
    {
     "name": "stdout",
     "output_type": "stream",
     "text": [
      "-2.5298221281347035\n",
      "1.2649110640673518\n",
      "Beta at Mu2 = 50.5 is : 0.1095\n"
     ]
    }
   ],
   "source": [
    "# Calculate Beta at Mu2 = 50.5\n",
    "n1 = 10\n",
    "Sig =2.5\n",
    "Mu2 =50.5\n",
    "\n",
    "p13 = (48.5 - Mu2)/(Sig/math.sqrt(n1))\n",
    "print(p13)\n",
    "p14 = (51.5 - Mu2)/(Sig/math.sqrt(n1))\n",
    "print(p14)\n",
    "\n",
    "# so our z score lies in between these two p13 < z < p14.\n",
    "# Find probability at these z score\n",
    "P13 = 0.0057\n",
    "P14 = 0.8962\n",
    "# now Beta = p13 +(1 - p14)\n",
    "Beta12 = P13 +(1- P14)\n",
    "print(f\"Beta at Mu2 = 50.5 is : {Beta12}\")"
   ]
  },
  {
   "cell_type": "markdown",
   "metadata": {},
   "source": [
    "2) Acceptance region 48 < x < 51"
   ]
  },
  {
   "cell_type": "code",
   "execution_count": 8,
   "metadata": {},
   "outputs": [
    {
     "name": "stdout",
     "output_type": "stream",
     "text": [
      "-5.059644256269407\n",
      "-1.2649110640673518\n",
      "Beta at Mu2 = 52 is : 0.1038\n"
     ]
    }
   ],
   "source": [
    "# Calculate Beta at Mu1 = 52\n",
    "n2 = 10\n",
    "Sig =2.5\n",
    "Mu1 =52\n",
    "\n",
    "p21 = (48.0 - Mu1)/(Sig/math.sqrt(n2))\n",
    "print(p21)\n",
    "p22 = (51.0 - Mu1)/(Sig/math.sqrt(n2))\n",
    "print(p22)\n",
    "\n",
    "# As p22 > p21, so our z score lies in between these two p22 < z < p21.\n",
    "# Find probability at these z score\n",
    "P21 = 0\n",
    "P22 = 0.1038\n",
    "# now Beta = p22 - p21\n",
    "Beta1 = P22 - P21\n",
    "print(f\"Beta at Mu2 = 52 is : {Beta1}\")"
   ]
  },
  {
   "cell_type": "code",
   "execution_count": 9,
   "metadata": {},
   "outputs": [
    {
     "name": "stdout",
     "output_type": "stream",
     "text": [
      "-3.1622776601683795\n",
      "0.6324555320336759\n",
      "Beta at Mu2 = 50.5 is : 0.2651\n"
     ]
    }
   ],
   "source": [
    "# Calculate Beta at Mu2 = 50.5\n",
    "n2 = 10\n",
    "Sig =2.5\n",
    "Mu2 =50.5\n",
    "\n",
    "p23 = (48 - Mu2)/(Sig/math.sqrt(n2))\n",
    "print(p23)\n",
    "p24 = (51 - Mu2)/(Sig/math.sqrt(n2))\n",
    "print(p24)\n",
    "\n",
    "# so our z score lies in between these two p13 < z < p14.\n",
    "# Find probability at these z score\n",
    "P23 = 0.0008\n",
    "P24 = 0.7357\n",
    "# now Beta = p13 +(1 - p14)\n",
    "Beta2 = P23 +(1- P24)\n",
    "print(f\"Beta at Mu2 = 50.5 is : {Beta2}\")"
   ]
  },
  {
   "cell_type": "markdown",
   "metadata": {},
   "source": [
    "3) Acceptance region 48.81 < x < 51.9"
   ]
  },
  {
   "cell_type": "code",
   "execution_count": 10,
   "metadata": {},
   "outputs": [
    {
     "name": "stdout",
     "output_type": "stream",
     "text": [
      "-5.1039999999999965\n",
      "-0.16000000000000228\n",
      "Beta at Mu2 = 52 is : 0.4364\n"
     ]
    }
   ],
   "source": [
    "# Calculate Beta at Mu1 = 52\n",
    "n3 = 16\n",
    "Sig =2.5\n",
    "Mu1 =52\n",
    "\n",
    "p31 = (48.81 - Mu1)/(Sig/math.sqrt(n3))\n",
    "print(p31)\n",
    "p32 = (51.9 - Mu1)/(Sig/math.sqrt(n3))\n",
    "print(p32)\n",
    "\n",
    "# so our z score lies in between these two p31 < z < p32.\n",
    "# Find probability at these z score\n",
    "P31 = 0.4364\n",
    "P32 = 0\n",
    "# now Beta = p31 - p32\n",
    "Beta1 = P31 - P32\n",
    "print(f\"Beta at Mu2 = 52 is : {Beta1}\")"
   ]
  },
  {
   "cell_type": "code",
   "execution_count": 11,
   "metadata": {},
   "outputs": [
    {
     "name": "stdout",
     "output_type": "stream",
     "text": [
      "-2.703999999999996\n",
      "2.2399999999999975\n",
      "Beta at Mu2 = 50.5 is : 0.015700000000000047\n"
     ]
    }
   ],
   "source": [
    "# Calculate Beta at Mu2 = 50.5\n",
    "n3 = 16\n",
    "Sig =2.5\n",
    "Mu2 =50.5\n",
    "\n",
    "p33 = (48.81 - Mu2)/(Sig/math.sqrt(n3))\n",
    "print(p33)\n",
    "p34 = (51.9 - Mu2)/(Sig/math.sqrt(n3))\n",
    "print(p34)\n",
    "\n",
    "# so our z score lies in between these two p33 < z < 1- p34.\n",
    "# Find probability at these z score\n",
    "P33 = 0.0032\n",
    "P34 = 0.9875\n",
    "# now Beta = P33 + 1- P34\n",
    "Beta2 = P33 +1 - P34\n",
    "print(f\"Beta at Mu2 = 50.5 is : {Beta2}\")"
   ]
  },
  {
   "cell_type": "markdown",
   "metadata": {},
   "source": [
    "4) Acceptance region 48.42 <x < 51.58"
   ]
  },
  {
   "cell_type": "code",
   "execution_count": 12,
   "metadata": {},
   "outputs": [
    {
     "name": "stdout",
     "output_type": "stream",
     "text": [
      "-5.727999999999997\n",
      "-0.6720000000000027\n",
      "Beta at Mu2 = 52 is : 0.2514\n"
     ]
    }
   ],
   "source": [
    "# Calculate Beta at Mu1 = 52\n",
    "n4 = 16\n",
    "Sig =2.5\n",
    "Mu1 =52\n",
    "\n",
    "p41 = (48.42 - Mu1)/(Sig/math.sqrt(n4))\n",
    "print(p41)\n",
    "p42 = (51.58 - Mu1)/(Sig/math.sqrt(n4))\n",
    "print(p42)\n",
    "\n",
    "# As P42> P41, so our z score lies in between these two p42 < z < p41.\n",
    "# Find probability at these z score\n",
    "P41 = 0.0\n",
    "P42 = 0.2514\n",
    "# now Beta = p31 - p32\n",
    "Beta1 = P42 - P41\n",
    "print(f\"Beta at Mu2 = 52 is : {Beta1}\")"
   ]
  },
  {
   "cell_type": "code",
   "execution_count": 13,
   "metadata": {},
   "outputs": [
    {
     "name": "stdout",
     "output_type": "stream",
     "text": [
      "-2.703999999999996\n",
      "2.2399999999999975\n",
      "Beta at Mu2 = 50.5 is : 0.015999999999999955\n"
     ]
    }
   ],
   "source": [
    "# Calculate Beta at Mu2 = 50.5\n",
    "n4 = 16\n",
    "Sig =2.5\n",
    "Mu2 =50.5\n",
    "\n",
    "p43 = (48.42 - Mu2)/(Sig/math.sqrt(n4))\n",
    "print(p33)\n",
    "p44 = (51.58 - Mu2)/(Sig/math.sqrt(n4))\n",
    "print(p34)\n",
    "\n",
    "# so our z score lies in between these two p33 < z < 1- p34.\n",
    "# Find probability at these z score\n",
    "P43 = 0.0035\n",
    "P44 = 0.9875\n",
    "# now Beta = P43 + 1- P44\n",
    "Beta2 = P43 +(1 - P44)\n",
    "print(f\"Beta at Mu2 = 50.5 is : {Beta2}\")"
   ]
  },
  {
   "cell_type": "markdown",
   "metadata": {},
   "source": [
    "## Problem Statement 8:\n",
    "Find the t-score for a sample size of 16 taken from a population with mean 10 when\n",
    "the sample mean is 12 and the sample standard deviation is 1.5."
   ]
  },
  {
   "cell_type": "code",
   "execution_count": 3,
   "metadata": {},
   "outputs": [
    {
     "name": "stdout",
     "output_type": "stream",
     "text": [
      "T Score is 5.3333 \n"
     ]
    }
   ],
   "source": [
    "import math\n",
    "t = 12\n",
    "mu = 10\n",
    "n = 16\n",
    "s = 1.5\n",
    "t_score = (t - mu)/(s/math.sqrt(n))\n",
    "print(\"T Score is %.4f \" % t_score)"
   ]
  },
  {
   "cell_type": "markdown",
   "metadata": {},
   "source": [
    "## Problem Statement 9:\n",
    "Find the t-score below which we can expect 99% of sample means will fall if samples\n",
    "of size 16 are taken from a normally distributed population."
   ]
  },
  {
   "cell_type": "markdown",
   "metadata": {},
   "source": [
    "- **Ans**:\n",
    "    Pr( t > t_score) = 0.01 where DoF is 15\n",
    "    \n",
    "    t_score which satisfies above conditions is 2.602"
   ]
  },
  {
   "cell_type": "markdown",
   "metadata": {},
   "source": [
    "## Problem Statement 10:\n",
    "If a random sample of size 25 drawn from a normal population gives a mean of 60\n",
    "and a standard deviation of 4, find the range of t-scores where we can expect to find\n",
    "the middle 95% of all sample means. Compute the probability that (−𝑡0.05 <𝑡<𝑡0.10).\n",
    "\n",
    "**Ans**:\n",
    "    n = 25\n",
    "    s = 4\n",
    "    sample_mean = 60\n",
    "    \n",
    "    Pr(t > t_score) = 0.025 and Pr(t < -t_score) = 0.025 and DOF = 24\n",
    "    t_score which satisfies above conditions is 2.064\n",
    "    \n",
    "    Range of t-scores where we can expect 95% of all sample means is -2.604 <= t_score <= 2.604"
   ]
  },
  {
   "cell_type": "markdown",
   "metadata": {},
   "source": [
    "## Problem Statement 11:\n",
    "\n",
    "Two-tailed test for difference between two population means\n",
    "Is there evidence to conclude that the number of people travelling from Bangalore to\n",
    "Chennai is different from the number of people travelling from Bangalore to Hosur in\n",
    "a week, given the following:\n",
    "\n",
    "Population 1: Bangalore to Chennai n1 = 1200\n",
    "\n",
    "x1 = 452\n",
    "\n",
    "s1 = 212\n",
    "\n",
    "Population 2: Bangalore to Hosur n2 = 800\n",
    "\n",
    "x2 = 523\n",
    "\n",
    "s2 = 185"
   ]
  },
  {
   "cell_type": "markdown",
   "metadata": {},
   "source": [
    "- **Ans**:\n",
    "\n",
    "H0: The number of people travelling from Bangalore to Chennai is not  different from the number of people travelling from Bangalore to Hosur in a week\n",
    "\n",
    "H1: The number of people travelling from Bangalore to Chennai is  different from the number of people travelling from Bangalore to Hosur in a week\n",
    "\n",
    "Let's use alpha = 0.001 to test this hypothesis\n",
    "\n",
    "Assumption: Population variances are different\n",
    "\n",
    "\n",
    "t_test = (x1-x2) - 0 / math.sqrt(s1^2/n1 + s2^2/n2)\n",
    "\n",
    "DoF = (s1^2/n1 + s2^2/n2)^2/((1/(n1-1)) * (s1^2/n1)^2 + (1/(n2-1))*(s2^2/n2)^2)"
   ]
  },
  {
   "cell_type": "code",
   "execution_count": 6,
   "metadata": {},
   "outputs": [
    {
     "data": {
      "text/plain": [
       "(-7.926428526759299, 1860.256059214886)"
      ]
     },
     "execution_count": 6,
     "metadata": {},
     "output_type": "execute_result"
    }
   ],
   "source": [
    "x1 = 452\n",
    "s1 = 212\n",
    "n1 = 1200\n",
    "n2 = 800\n",
    "x2 = 523\n",
    "s2 = 185\n",
    "\n",
    "t_test = ((x1-x2) - 0) / (math.sqrt(s1**2/n1 + s2**2/n2))\n",
    "DoF = ((s1**2/n1 + s2**2/n2)**2) / ((1/(n1-1)) * (s1**2/n1)**2 + (1/(n2-1))*(s2**2/n2)**2)\n",
    "t_test, DoF"
   ]
  },
  {
   "cell_type": "markdown",
   "metadata": {},
   "source": [
    "Since DOF is tends to learge value, we can use Z table for the calculation\n",
    "Pr( t > t_alpha_by_2) = 0.0005 is 3.291\n",
    "\n",
    "As t_test(-7.93) falls into critical region, we can reject the Null hypothesis. Thus the number of people travelling from Bangalore to Chennai is different from the number of people travelling from Bangalore to Hosur in a week with a singnificant level of 0.1%."
   ]
  },
  {
   "cell_type": "markdown",
   "metadata": {},
   "source": [
    "## Problem Statement 12:\n",
    "Is there evidence to conclude that the number of people preferring Duracell battery is\n",
    "different from the number of people preferring Energizer battery, given the following:\n",
    "\n",
    "Population 1: Duracell\n",
    "\n",
    "n1 = 100\n",
    "\n",
    "x1 = 308\n",
    "\n",
    "s1 = 84\n",
    "\n",
    "Population 2: Energizer\n",
    "\n",
    "n2 = 100\n",
    "\n",
    "x2 = 254\n",
    "\n",
    "s2 = 67"
   ]
  },
  {
   "cell_type": "markdown",
   "metadata": {},
   "source": [
    "- **Ans**:\n",
    "\n",
    "H0: The number of people preferring Duracell battery is not different from the number of people preferring Energizer battery\n",
    "\n",
    "H1: The number of people preferring Duracell battery is different from the number of people preferring Energizer battery\n",
    "\n",
    "Let's use alpha = 0.001 to test this hypothesis\n",
    "\n",
    "Assumption: Population variances are different\n",
    "\n",
    "\n",
    "t_test = (x1-x2) - 0 / math.sqrt(s1^2/n1 + s2^2/n2)\n",
    "\n",
    "DoF = (s1^2/n1 + s2^2/n2)^2/((1/(n1-1)) * (s1^2/n1)^2 + (1/(n2-1))*(s2^2/n2)^2)"
   ]
  },
  {
   "cell_type": "code",
   "execution_count": 7,
   "metadata": {},
   "outputs": [
    {
     "data": {
      "text/plain": [
       "(5.025702668336442, 188.67235245796874)"
      ]
     },
     "execution_count": 7,
     "metadata": {},
     "output_type": "execute_result"
    }
   ],
   "source": [
    "n1 = 100\n",
    "x1 = 308\n",
    "s1 = 84\n",
    "n2 = 100\n",
    "x2 = 254\n",
    "s2 = 67\n",
    "t_test = ((x1-x2) - 0) / (math.sqrt(s1**2/n1 + s2**2/n2))\n",
    "DoF = ((s1**2/n1 + s2**2/n2)**2) / ((1/(n1-1)) * (s1**2/n1)**2 + (1/(n2-1))*(s2**2/n2)**2)\n",
    "t_test, DoF"
   ]
  },
  {
   "cell_type": "markdown",
   "metadata": {},
   "source": [
    "Pr( t > t_alpha_by_2) = 0.0005 is 3.30\n",
    "\n",
    "As t_test(5.02) falls into critical region, we can reject the Null hypothesis. Thus the number of people preferring Duracell battery is different from the number of people preferring Energizer battery with a singnificant level of 0.1%."
   ]
  },
  {
   "cell_type": "markdown",
   "metadata": {},
   "source": [
    "## Problem Statement 13:\n",
    "Pooled estimate of the population variance\n",
    "\n",
    "Does the data provide sufficient evidence to conclude that average percentage\n",
    "increase in the price of sugar differs when it is sold at two different prices?\n",
    "\n",
    "Population 1: Price of sugar = Rs. 27.50 n1 = 14\n",
    "\n",
    "x1 = 0.317%\n",
    "\n",
    "s1 = 0.12%\n",
    "\n",
    "Population 2: Price of sugar = Rs. 20.00 n2 = 9\n",
    "\n",
    "x2 = 0.21%\n",
    "\n",
    "s2 = 0.11%"
   ]
  },
  {
   "cell_type": "markdown",
   "metadata": {},
   "source": [
    "**Ans**: \n",
    "\n",
    "H0: The average percentage increase in the price of sugar does not differ when it is sold at two different prices\n",
    "\n",
    "H1: The average percentage increase in the price of sugar differs when it is sold at two different prices\n",
    "\n",
    "Let's use alpha = 0.02 to test this hypothesis\n",
    "\n",
    "\n",
    "t_test = (x1-x2) - 0 / math.sqrt(s1^2/n1 + s2^2/n2)\n",
    "\n",
    "DoF = (s1^2/n1 + s2^2/n2)^2/((1/(n1-1)) * (s1^2/n1)^2 + (1/(n2-1))*(s2^2/n2)^2)"
   ]
  },
  {
   "cell_type": "code",
   "execution_count": 14,
   "metadata": {},
   "outputs": [
    {
     "data": {
      "text/plain": [
       "(2.1965113720074068, 18.32341666884106)"
      ]
     },
     "execution_count": 14,
     "metadata": {},
     "output_type": "execute_result"
    }
   ],
   "source": [
    "n1 = 14\n",
    "x1 = 0.317\n",
    "s1 = 0.12\n",
    "n2 = 9\n",
    "x2 = 0.21\n",
    "s2 = 0.11\n",
    "\n",
    "t_test = ((x1-x2) - 0) / (math.sqrt(s1**2/n1 + s2**2/n2))\n",
    "DoF = ((s1**2/n1 + s2**2/n2)**2) / ((1/(n1-1)) * (s1**2/n1)**2 + (1/(n2-1))*(s2**2/n2)**2)\n",
    "t_test, DoF"
   ]
  },
  {
   "cell_type": "markdown",
   "metadata": {},
   "source": [
    "Pr( t > t_alpha_by_2) = 0.01 is 2.552\n",
    "\n",
    "As t_test(2.2) does not fall into critical region, we cannot reject the Null hypothesis. Thus  there is evidence that the average percentage increase in the price of sugar does not differ when it is sold at two different prices with a singnificant level of 2%."
   ]
  },
  {
   "cell_type": "markdown",
   "metadata": {},
   "source": [
    "## Problem Statement 14:\n",
    "The manufacturers of compact disk players want to test whether a small price\n",
    "reduction is enough to increase sales of their product. Is there evidence that the\n",
    "small price reduction is enough to increase sales of compact disk players?\n",
    "\n",
    "Population 1: Before reduction\n",
    "\n",
    "n1 = 15\n",
    "\n",
    "x1 = Rs. 6598 s1 = Rs. 844\n",
    "\n",
    "Population 2: After reduction n2 = 12\n",
    "\n",
    "x2 = RS. 6870\n",
    "\n",
    "s2 = Rs. 669"
   ]
  },
  {
   "cell_type": "markdown",
   "metadata": {},
   "source": [
    "**Ans**: \n",
    "\n",
    "H0: A small price reduction is not enough to increase sales of their product.\n",
    "\n",
    "H1: A small price reduction is enough to increase sales of their product.\n",
    "\n",
    "Let's use alpha = 0.1 to test this hypothesis\n",
    "\n",
    "- One tail test ( Upper tail test)\n",
    "\n",
    "t_test = (x2-x1) - 0 / math.sqrt(s1^2/n1 + s2^2/n2)\n",
    "\n",
    "DoF = (s1^2/n1 + s2^2/n2)^2/((1/(n1-1)) * (s1^2/n1)^2 + (1/(n2-1))*(s2^2/n2)^2)"
   ]
  },
  {
   "cell_type": "code",
   "execution_count": 16,
   "metadata": {},
   "outputs": [
    {
     "data": {
      "text/plain": [
       "(0.9341299576730813, 24.999998854386345)"
      ]
     },
     "execution_count": 16,
     "metadata": {},
     "output_type": "execute_result"
    }
   ],
   "source": [
    "n1 = 15\n",
    "x1 = 6598\n",
    "s1 = 844\n",
    "\n",
    "n2 = 12\n",
    "x2 =6870\n",
    "s2 = 669\n",
    "\n",
    "t_test = ((x2-x1) - 0) / (math.sqrt(s1**2/n1 + s2**2/n2))\n",
    "DoF = ((s1**2/n1 + s2**2/n2)**2) / ((1/(n1-1)) * (s1**2/n1)**2 + (1/(n2-1))*(s2**2/n2)**2)\n",
    "t_test, DoF"
   ]
  },
  {
   "cell_type": "markdown",
   "metadata": {},
   "source": [
    "Dof = 25\n",
    "t_test = 0.93\n",
    "alpha = 0.1\n",
    "\n",
    "Pr( t > t_alpha) = 0.1 is 1.316\n",
    "\n",
    "As t_test(0.93) does not falls into critical region, we cannot reject the Null hypothesis. Thus a small price reduction is not enough to increase sales of their product with a singnificant level of 10%."
   ]
  },
  {
   "cell_type": "markdown",
   "metadata": {},
   "source": [
    "## Problem Statement 15:\n",
    "Comparisons of two population proportions when the hypothesized difference is zero\n",
    "Carry out a two-tailed test of the equality of banks’ share of the car loan market in\n",
    "1980 and 1995.\n",
    "\n",
    "Population 1: 1980\n",
    "\n",
    "n1 = 1000\n",
    "\n",
    "x1 = 53\n",
    "\n",
    "𝑝 1 = 0.53\n",
    "\n",
    "Population 2: 1985\n",
    "\n",
    "n2 = 100\n",
    "\n",
    "x2 = 43\n",
    "\n",
    "𝑝 2= 0.53"
   ]
  },
  {
   "cell_type": "markdown",
   "metadata": {},
   "source": [
    "**Ans**:\n",
    "\n",
    "H0:  Two population proportions are equal\n",
    "\n",
    "H1: Two population proportions are not equal\n",
    "\n",
    "proportion of sample1 = 0.053\n",
    "\n",
    "proportion of sample2 = 0.43\n",
    "\n",
    "p = (53 + 43)/1100\n",
    "\n",
    "s = math.sqrt(p * (1-p))\n",
    "\n",
    "- Two tail tests\n",
    "\n",
    "- Let's use alpha = 0.05 for the test"
   ]
  },
  {
   "cell_type": "code",
   "execution_count": 2,
   "metadata": {},
   "outputs": [
    {
     "data": {
      "text/plain": [
       "(0.2822342969008328, 0.08727272727272728)"
      ]
     },
     "execution_count": 2,
     "metadata": {},
     "output_type": "execute_result"
    }
   ],
   "source": [
    "p = (53 + 43)/1100\n",
    "s = math.sqrt(p * (1-p))\n",
    "s, p"
   ]
  },
  {
   "cell_type": "code",
   "execution_count": 3,
   "metadata": {},
   "outputs": [
    {
     "data": {
      "text/plain": [
       "-12.736063621349615"
      ]
     },
     "execution_count": 3,
     "metadata": {},
     "output_type": "execute_result"
    }
   ],
   "source": [
    "z_test = (0.053 - 0.43) / (s * math.sqrt((1/100) + (1/1000)))\n",
    "z_test"
   ]
  },
  {
   "cell_type": "markdown",
   "metadata": {},
   "source": [
    "- Since Pr( z < z_test) is lesser than 0.025, we  can reject the null hypothesis. Thus the equality of banks’ share of the car loan market in 1980 and 1995 are different with the significant level of 0.05."
   ]
  },
  {
   "cell_type": "markdown",
   "metadata": {},
   "source": [
    "## Problem Statement 16:\n",
    "Carry out a one-tailed test to determine whether the population proportion of\n",
    "traveler’s check buyers who buy at least $2500 in checks when sweepstakes prizes\n",
    "are offered as at least 10% higher than the proportion of such buyers when no\n",
    "sweepstakes are on.\n",
    "\n",
    "Population 1: With sweepstakes\n",
    "\n",
    "n1 = 300\n",
    "\n",
    "x1 = 120\n",
    "\n",
    "𝑝 = 0.40\n",
    "\n",
    "Population 2: No sweepstakes\n",
    "\n",
    "n2 = 700\n",
    "\n",
    "x2 = 140\n",
    "\n",
    "𝑝 2= 0.20"
   ]
  },
  {
   "cell_type": "markdown",
   "metadata": {},
   "source": [
    "**Ans**: \n",
    "\n",
    "H0: The population proportion of traveler’s check buyers who buy at least $2500 in checks when sweepstakes prizes are offered as at least 10% is same as the proportion of such buyers when no sweepstakes are on\n",
    "\n",
    "H1: The population proportion of traveler’s check buyers who buy at least $2500 in checks when sweepstakes prizes are offered as at least 10% is higher than the proportion of such buyers when no sweepstakes are on\n",
    "\n",
    "\n",
    "\n",
    "p = (120 + 140)/1000\n",
    "\n",
    "s = math.sqrt(p * (1-p))\n",
    "\n",
    "- Upper tail test\n",
    "\n",
    "- Let's use alpha = 0.05 for this test"
   ]
  },
  {
   "cell_type": "code",
   "execution_count": 12,
   "metadata": {},
   "outputs": [
    {
     "data": {
      "text/plain": [
       "(0.4386342439892262, 0.26)"
      ]
     },
     "execution_count": 12,
     "metadata": {},
     "output_type": "execute_result"
    }
   ],
   "source": [
    "p = (120 + 140)/1000\n",
    "s = math.sqrt(p * (1-p))\n",
    "s, p"
   ]
  },
  {
   "cell_type": "code",
   "execution_count": 13,
   "metadata": {},
   "outputs": [
    {
     "data": {
      "text/plain": [
       "6.607499047222305"
      ]
     },
     "execution_count": 13,
     "metadata": {},
     "output_type": "execute_result"
    }
   ],
   "source": [
    "z_test = (0.40 - 0.20) / (s * math.sqrt((1/300) + (1/700)))\n",
    "z_test"
   ]
  },
  {
   "cell_type": "markdown",
   "metadata": {},
   "source": [
    "- Since Pr( z > z_test) is lesser than 0.05, we can reject the null hypothesis. Thus we can conclude that the population proportion of traveler’s check buyers who buy at least $2500 in checks when sweepstakes prizes are offered as at least 10% is higher than the proportion of such buyers when no sweepstakes are on with the significant level of 0.05."
   ]
  },
  {
   "cell_type": "markdown",
   "metadata": {},
   "source": [
    "## Problem Statement 17:\n",
    "\n",
    "A die is thrown 132 times with the following results: Number turned up: 1, 2, 3, 4, 5, 6\n",
    "Frequency: 16, 20, 25, 14, 29, 28\n",
    "Is the die unbiased? Consider the degrees of freedom as 𝑝 − 1.\n",
    "\n",
    "**Ans**:"
   ]
  },
  {
   "cell_type": "code",
   "execution_count": 8,
   "metadata": {},
   "outputs": [],
   "source": [
    "Numbers = np.array([1,2,3,4,5,6])\n",
    "observed_values = np.array([16, 20, 25, 14, 29, 28 ])\n",
    "expected_values = np.full(6, 22)"
   ]
  },
  {
   "cell_type": "code",
   "execution_count": 11,
   "metadata": {},
   "outputs": [
    {
     "data": {
      "text/plain": [
       "9.0"
      ]
     },
     "execution_count": 11,
     "metadata": {},
     "output_type": "execute_result"
    }
   ],
   "source": [
    "chi_squared_statistics = np.sum((observed_values - expected_values)**2 /expected_values)\n",
    "chi_squared_statistics"
   ]
  },
  {
   "cell_type": "markdown",
   "metadata": {},
   "source": [
    "H0 : The die is unbiased\n",
    "\n",
    "H1 : The die is biased\n",
    "\n",
    "Dof = 5\n",
    "\n",
    "P_value = Pr( x > chi_squared_statistics)\n",
    "\n",
    "P_value is approximately equal to 0.1\n",
    "\n",
    "Since P_value is greater than alpha (0.05) we cannot reject the null hypothesis. So we could conclude that the die is\n",
    "unbiased."
   ]
  },
  {
   "attachments": {
    "image.png": {
     "image/png": "[encoded data removed]"
    }
   },
   "cell_type": "markdown",
   "metadata": {},
   "source": [
    "## Problem Statement 18:\n",
    "In a certain town, there are about one million eligible voters. A simple random\n",
    "sample of 10,000 eligible voters was chosen to study the relationship between\n",
    "gender and participation in the last election. The results are summarized in the\n",
    "following 2X2 (read two by two) contingency table:\n",
    "\n",
    "![image.png](attachment:image.png)\n",
    "\n",
    "We would want to check whether being a man or a woman (columns) is independent of\n",
    "having voted in the last election (rows). In other words, is “gender and voting independent”?\n",
    "\n",
    "**Ans**:\n",
    "\n",
    "H0: Gender and voting are independent\n",
    "\n",
    "H1: Gender and voting are dependent"
   ]
  },
  {
   "cell_type": "code",
   "execution_count": 15,
   "metadata": {},
   "outputs": [],
   "source": [
    "from scipy.stats import contingency, chi2_contingency"
   ]
  },
  {
   "cell_type": "code",
   "execution_count": 16,
   "metadata": {},
   "outputs": [],
   "source": [
    "observed = np.array([[2792, 3591], [1486, 2131]])"
   ]
  },
  {
   "cell_type": "code",
   "execution_count": 18,
   "metadata": {},
   "outputs": [
    {
     "name": "stdout",
     "output_type": "stream",
     "text": [
      "chi2 statistics is 6.552337973968181\n",
      "P value is 0.01047464310091866\n",
      "Dof is 1\n",
      "Expected is [[2730.6474 3652.3526]\n",
      " [1547.3526 2069.6474]]\n"
     ]
    }
   ],
   "source": [
    "chi2, p, dof, expected = chi2_contingency(observed)\n",
    "print(\"chi2 statistics is {}\".format(chi2))\n",
    "print(\"P value is {}\".format(p))\n",
    "print(\"Dof is {}\".format(dof))\n",
    "print(\"Expected is {}\".format(expected))"
   ]
  },
  {
   "cell_type": "markdown",
   "metadata": {},
   "source": [
    "- Let's take alpha as 0.05\n",
    "- Baed on this alpha value, we could say that P value is lesser than alpha. So we have strong evidence against H0. \n",
    "- Thus, Gender and voting are dependent with the significant level of 5%"
   ]
  },
  {
   "attachments": {
    "image.png": {
     "image/png": "[encoded data removed]"
    }
   },
   "cell_type": "markdown",
   "metadata": {},
   "source": [
    "## Problem Statement 19:\n",
    "A sample of 100 voters are asked which of four candidates they would vote for in an\n",
    "election. The number supporting each candidate is given below:\n",
    "![image.png](attachment:image.png)\n",
    "\n",
    "Do the data suggest that all candidates are equally popular? [Chi-Square = 14.96,\n",
    "with 3 df, 𝑝 0.05 .\n",
    "\n",
    "**Ans**:"
   ]
  },
  {
   "cell_type": "code",
   "execution_count": 21,
   "metadata": {},
   "outputs": [],
   "source": [
    "observed_values = np.array([41, 19, 24, 16])\n",
    "expected_values = np.full(4, np.mean(observed_values))"
   ]
  },
  {
   "cell_type": "code",
   "execution_count": 22,
   "metadata": {},
   "outputs": [
    {
     "data": {
      "text/plain": [
       "array([25., 25., 25., 25.])"
      ]
     },
     "execution_count": 22,
     "metadata": {},
     "output_type": "execute_result"
    }
   ],
   "source": [
    "expected_values"
   ]
  },
  {
   "cell_type": "code",
   "execution_count": 23,
   "metadata": {},
   "outputs": [
    {
     "data": {
      "text/plain": [
       "14.959999999999999"
      ]
     },
     "execution_count": 23,
     "metadata": {},
     "output_type": "execute_result"
    }
   ],
   "source": [
    "chi_squared_statistics = np.sum((observed_values - expected_values)**2 /expected_values)\n",
    "chi_squared_statistics"
   ]
  },
  {
   "cell_type": "markdown",
   "metadata": {},
   "source": [
    "H0 :  All candidates are equally popular\n",
    "\n",
    "H1 :  All candidates are not equally popular\n",
    "\n",
    "\n",
    "Dof = 3\n",
    "\n",
    "P_value = Pr( x > chi_squared_statistics)\n",
    "\n",
    "P_value is approximately equal to 0.002\n",
    "\n",
    "Since P_value is lower than alpha (0.05) we can reject the null hypothesis. So we could conclude that all candidates are not equally popular"
   ]
  },
  {
   "attachments": {
    "image.png": {
     "image/png": "[encoded data removed]"
    }
   },
   "cell_type": "markdown",
   "metadata": {},
   "source": [
    "## Problem Statement 20:\n",
    "Children of three ages are asked to indicate their preference for three photographs of\n",
    "adults. Do the data suggest that there is a significant relationship between age and\n",
    "photograph preference? What is wrong with this study? [Chi-Square = 29.6, with 4\n",
    "df: 𝑝 < 0.05].\n",
    "\n",
    "![image.png](attachment:image.png)\n",
    "\n",
    "**Ans**:\n",
    "\n",
    "H0: There is no significant relationship between age and\n",
    "photograph preference\n",
    "\n",
    "H1: There is a significant relationship between age and\n",
    "photograph preference"
   ]
  },
  {
   "cell_type": "code",
   "execution_count": 25,
   "metadata": {},
   "outputs": [
    {
     "data": {
      "text/plain": [
       "array([[18, 22, 20],\n",
       "       [ 2, 28, 40],\n",
       "       [20, 10, 40]])"
      ]
     },
     "execution_count": 25,
     "metadata": {},
     "output_type": "execute_result"
    }
   ],
   "source": [
    "observed = np.array([[18, 22, 20], [2, 28, 40], [20, 10, 40]])\n",
    "observed"
   ]
  },
  {
   "cell_type": "code",
   "execution_count": 26,
   "metadata": {},
   "outputs": [
    {
     "name": "stdout",
     "output_type": "stream",
     "text": [
      "chi2 statistics is 29.603174603174608\n",
      "P value is 5.894582174262606e-06\n",
      "Dof is 4\n",
      "Expected is [[12. 18. 30.]\n",
      " [14. 21. 35.]\n",
      " [14. 21. 35.]]\n"
     ]
    }
   ],
   "source": [
    "chi2, p, dof, expected = chi2_contingency(observed)\n",
    "print(\"chi2 statistics is {}\".format(chi2))\n",
    "print(\"P value is {}\".format(p))\n",
    "print(\"Dof is {}\".format(dof))\n",
    "print(\"Expected is {}\".format(expected))"
   ]
  },
  {
   "cell_type": "markdown",
   "metadata": {},
   "source": [
    "Let's take alpha as 0.01\n",
    "Baed on this alpha value, we could say that P value is lesser than alpha. So we have strong evidence against H0.\n",
    "Thus, there is a significant relationship between age and photograph preference with the significant level of 1%\n",
    "\n",
    "### What is wrong with this study?\n",
    "- Each observation in the above contigency table should be greater than or equal to 50 to make correct study on the data using chi-square test. Since the observed values are lower than 50, this study using chi-square2 would be wrong."
   ]
  },
  {
   "attachments": {
    "image.png": {
     "image/png": "[encoded data removed]"
    }
   },
   "cell_type": "markdown",
   "metadata": {},
   "source": [
    "## Problem Statement 21:\n",
    "\n",
    "A study of conformity using the Asch paradigm involved two conditions: one where\n",
    "one confederate supported the true judgement and another where no confederate\n",
    "gave the correct response.\n",
    "\n",
    "![image.png](attachment:image.png)\n",
    "Is there a significant difference between the \"support\" and \"no support\" conditions in the\n",
    "frequency with which individuals are likely to conform? [Chi-Square = 19.87, with 1 df:\n",
    "𝑝 < 0.05].\n",
    "\n",
    "Ans:\n",
    "\n",
    "H0: There is no significant difference between the \"support\" and \"no support\" conditions in the\n",
    "frequency with which individuals are likely to conform\n",
    "\n",
    "H1: There is significant difference between the \"support\" and \"no support\" conditions in the\n",
    "frequency with which individuals are likely to conform"
   ]
  },
  {
   "cell_type": "code",
   "execution_count": 29,
   "metadata": {},
   "outputs": [
    {
     "data": {
      "text/plain": [
       "array([[18, 40],\n",
       "       [32, 10]])"
      ]
     },
     "execution_count": 29,
     "metadata": {},
     "output_type": "execute_result"
    }
   ],
   "source": [
    "observed = np.array([[18, 40], [32, 10]])\n",
    "observed"
   ]
  },
  {
   "cell_type": "code",
   "execution_count": 30,
   "metadata": {},
   "outputs": [
    {
     "name": "stdout",
     "output_type": "stream",
     "text": [
      "chi2 statistics is 18.10344827586207\n",
      "P value is 2.092221924065813e-05\n",
      "Dof is 1\n",
      "Expected is [[29. 29.]\n",
      " [21. 21.]]\n"
     ]
    }
   ],
   "source": [
    "chi2, p, dof, expected = chi2_contingency(observed)\n",
    "print(\"chi2 statistics is {}\".format(chi2))\n",
    "print(\"P value is {}\".format(p))\n",
    "print(\"Dof is {}\".format(dof))\n",
    "print(\"Expected is {}\".format(expected))"
   ]
  },
  {
   "cell_type": "markdown",
   "metadata": {},
   "source": [
    "Let's take alpha as 0.01\n",
    "Based on this alpha value, we could say that P value is lesser than alpha. So we have strong evidence against H0.\n",
    "Thus, there is significant difference between the \"support\" and \"no support\" conditions in the frequency with which individuals are likely to conform with the significant level of 1%"
   ]
  },
  {
   "attachments": {
    "image.png": {
     "image/png": "[encoded data removed]"
    }
   },
   "cell_type": "markdown",
   "metadata": {},
   "source": [
    "## Problem Statement 22:\n",
    "We want to test whether short people differ with respect to their leadership qualities\n",
    "(Genghis Khan, Adolf Hitler and Napoleon were all stature-deprived, and how many midget\n",
    "MP's are there?) The following table shows the frequencies with which 43 short people and\n",
    "52 tall people were categorized as \"leaders\", \"followers\" or as \"unclassifiable\". Is there a\n",
    "relationship between height and leadership qualities?\n",
    "[Chi-Square = 10.71, with 2 df: 𝑝 < 0.01].\n",
    "\n",
    "![image.png](attachment:image.png)\n",
    "\n",
    "Ans:\n",
    "\n",
    "H0: There is no relationship between height and leadership qualities\n",
    "\n",
    "H1: There is a relationship between height and leadership qualities"
   ]
  },
  {
   "cell_type": "code",
   "execution_count": 31,
   "metadata": {},
   "outputs": [
    {
     "data": {
      "text/plain": [
       "array([[12, 32],\n",
       "       [22, 14],\n",
       "       [ 9,  6]])"
      ]
     },
     "execution_count": 31,
     "metadata": {},
     "output_type": "execute_result"
    }
   ],
   "source": [
    "observed = np.array([[12, 32], [22, 14], [9, 6]])\n",
    "observed"
   ]
  },
  {
   "cell_type": "code",
   "execution_count": 32,
   "metadata": {},
   "outputs": [
    {
     "name": "stdout",
     "output_type": "stream",
     "text": [
      "chi2 statistics is 10.712198008709638\n",
      "P value is 0.004719280137040844\n",
      "Dof is 2\n",
      "Expected is [[19.91578947 24.08421053]\n",
      " [16.29473684 19.70526316]\n",
      " [ 6.78947368  8.21052632]]\n"
     ]
    }
   ],
   "source": [
    "chi2, p, dof, expected = chi2_contingency(observed)\n",
    "print(\"chi2 statistics is {}\".format(chi2))\n",
    "print(\"P value is {}\".format(p))\n",
    "print(\"Dof is {}\".format(dof))\n",
    "print(\"Expected is {}\".format(expected))"
   ]
  },
  {
   "cell_type": "markdown",
   "metadata": {},
   "source": [
    "Let's take alpha as 0.01. Based on this alpha value, we could say that P value is lesser than alpha. So we have strong evidence against H0. Thus, there is a relationship between height and leadership qualities with the significant level of 1%"
   ]
  },
  {
   "attachments": {
    "image.png": {
     "image/png": "[encoded data removed]"
    }
   },
   "cell_type": "markdown",
   "metadata": {},
   "source": [
    "## Problem Statement 23:\n",
    "Each respondent in the Current Population Survey of March 1993 was classified as\n",
    "employed, unemployed, or outside the labor force. The results for men in California age 35-\n",
    "44 can be cross-tabulated by marital status, as follows:\n",
    "\n",
    "![image.png](attachment:image.png)\n",
    "\n",
    "Men of different marital status seem to have different distributions of labor force status. Or is\n",
    "this just chance variation? (you may assume the table results from a simple random\n",
    "sample.)\n",
    "\n",
    "Ans:\n",
    "\n",
    "H0: Men of different marital status do not seem to have different distributions of labor force status\n",
    "\n",
    "H1: Men of different marital status seem to have different distributions of labor force status"
   ]
  },
  {
   "cell_type": "code",
   "execution_count": 33,
   "metadata": {},
   "outputs": [
    {
     "data": {
      "text/plain": [
       "array([[679, 103, 114],\n",
       "       [ 63,  10,  20],\n",
       "       [ 42,  18,  25]])"
      ]
     },
     "execution_count": 33,
     "metadata": {},
     "output_type": "execute_result"
    }
   ],
   "source": [
    "observed = np.array([[679, 103, 114], [63, 10, 20], [42, 18, 25]])\n",
    "observed"
   ]
  },
  {
   "cell_type": "code",
   "execution_count": 34,
   "metadata": {},
   "outputs": [
    {
     "name": "stdout",
     "output_type": "stream",
     "text": [
      "chi2 statistics is 31.61310319407798\n",
      "P value is 2.2949883042859918e-06\n",
      "Dof is 4\n",
      "Expected is [[654.06331471 109.2886406  132.64804469]\n",
      " [ 67.88826816  11.34357542  13.76815642]\n",
      " [ 62.04841713  10.36778399  12.58379888]]\n"
     ]
    }
   ],
   "source": [
    "chi2, p, dof, expected = chi2_contingency(observed)\n",
    "print(\"chi2 statistics is {}\".format(chi2))\n",
    "print(\"P value is {}\".format(p))\n",
    "print(\"Dof is {}\".format(dof))\n",
    "print(\"Expected is {}\".format(expected))"
   ]
  },
  {
   "cell_type": "markdown",
   "metadata": {},
   "source": [
    "Let's take alpha as 0.01. Based on this alpha value, we could say that P value is lesser than alpha. So we have strong evidence against H0. Thus, men of different marital status seem to have different distributions of labor force status with the significant level of 1%"
   ]
  },
  {
   "cell_type": "code",
   "execution_count": null,
   "metadata": {},
   "outputs": [],
   "source": []
  }
 ],
 "metadata": {
  "kernelspec": {
   "display_name": "Python 3",
   "language": "python",
   "name": "python3"
  },
  "language_info": {
   "codemirror_mode": {
    "name": "ipython",
    "version": 3
   },
   "file_extension": ".py",
   "mimetype": "text/x-python",
   "name": "python",
   "nbconvert_exporter": "python",
   "pygments_lexer": "ipython3",
   "version": "3.7.4"
  }
 },
 "nbformat": 4,
 "nbformat_minor": 2
}
