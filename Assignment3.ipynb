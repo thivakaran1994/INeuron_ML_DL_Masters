{
 "cells": [
  {
   "cell_type": "markdown",
   "metadata": {},
   "source": [
    "## Ans for Question-1.1"
   ]
  },
  {
   "cell_type": "code",
   "execution_count": 1,
   "metadata": {},
   "outputs": [],
   "source": [
    "def myreduce(func, seq, initializer=None):\n",
    "    \"\"\"\n",
    "    Myown reduce function\n",
    "    :param func: Function with two arguments\n",
    "    :param seq: A sequence on which func should be applied\n",
    "    :param initializer:This is placed before the items\n",
    "                       of the sequence in the calculation,\n",
    "                       and serves as a default when the sequence\n",
    "                       is empty\n",
    "    \"\"\"\n",
    "    if initializer != None:\n",
    "        seq = [initializer] + list(seq)\n",
    "    \n",
    "    if len(seq) == 0:\n",
    "        raise TypeError(\"my_reduce() of empty sequence with no initial value\")\n",
    "    \n",
    "    if len(seq) == 1:\n",
    "        return seq[0]\n",
    " \n",
    "    out = func(seq[0], seq[1])\n",
    "    for i in seq[2:]:\n",
    "        out = func(out, i)\n",
    "    return out"
   ]
  },
  {
   "cell_type": "markdown",
   "metadata": {},
   "source": [
    "## Ans for Question-1.2"
   ]
  },
  {
   "cell_type": "code",
   "execution_count": 2,
   "metadata": {},
   "outputs": [],
   "source": [
    "def myfilter(func, seq):\n",
    "    \"\"\"\n",
    "    Myown filter function\n",
    "    :param func: None or function which accepts one input parameter\n",
    "    : seq\n",
    "    \"\"\"\n",
    "    if not func:\n",
    "        return iter([ele for ele in seq if bool(ele)])\n",
    "    return iter([ele for ele in seq if func(ele)])         "
   ]
  },
  {
   "cell_type": "markdown",
   "metadata": {},
   "source": [
    "## Ans for Question-2"
   ]
  },
  {
   "cell_type": "code",
   "execution_count": 3,
   "metadata": {},
   "outputs": [
    {
     "data": {
      "text/plain": [
       "['x', 'xx', 'xxx', 'xxxx', 'y', 'yy', 'yyy', 'yyyy', 'z', 'zz', 'zzz', 'zzzz']"
      ]
     },
     "execution_count": 3,
     "metadata": {},
     "output_type": "execute_result"
    }
   ],
   "source": [
    "## Produce ['x', 'xx', 'xxx', 'xxxx', 'y', 'yy', 'yyy', 'yyyy', 'z', 'zz', 'zzz', 'zzzz'] \n",
    "## using List Comprehension\n",
    "list1 = [ \n",
    "    l*c for l in ['x', 'y', 'z']\n",
    "    for c in range(1,5)\n",
    "]\n",
    "list1"
   ]
  },
  {
   "cell_type": "code",
   "execution_count": 4,
   "metadata": {},
   "outputs": [
    {
     "data": {
      "text/plain": [
       "['x', 'y', 'z', 'xx', 'yy', 'zz', 'xxx', 'yyy', 'zzz', 'xxxx', 'yyyy', 'zzzz']"
      ]
     },
     "execution_count": 4,
     "metadata": {},
     "output_type": "execute_result"
    }
   ],
   "source": [
    "## Produce ['x', 'y', 'z', 'xx', 'yy', 'zz', 'xxx', 'yyy', 'zzz', 'xxxx', 'yyyy', 'zzzz']\n",
    "## using List Comprehension\n",
    "list2 = [ \n",
    "    l*c for c in range(1,5)\n",
    "    for l in ['x', 'y', 'z']\n",
    "]\n",
    "list2"
   ]
  },
  {
   "cell_type": "code",
   "execution_count": 5,
   "metadata": {},
   "outputs": [
    {
     "data": {
      "text/plain": [
       "[[2], [3], [4], [3], [4], [5], [4], [5], [6]]"
      ]
     },
     "execution_count": 5,
     "metadata": {},
     "output_type": "execute_result"
    }
   ],
   "source": [
    "## Produce [[2], [3], [4], [3], [4], [5], [4], [5], [6]]\n",
    "## using List Comprehension\n",
    "list3 = [\n",
    "    [j] for i in range(2,5)\n",
    "    for j in range(i, i + 3)\n",
    "    \n",
    "]\n",
    "list3"
   ]
  },
  {
   "cell_type": "code",
   "execution_count": 6,
   "metadata": {},
   "outputs": [
    {
     "data": {
      "text/plain": [
       "[[2, 3, 4, 5], [3, 4, 5, 6], [4, 5, 6, 7], [5, 6, 7, 8]]"
      ]
     },
     "execution_count": 6,
     "metadata": {},
     "output_type": "execute_result"
    }
   ],
   "source": [
    "## Produce [[2, 3, 4, 5], [3, 4, 5, 6], [4, 5, 6, 7], [5, 6, 7, 8]]\n",
    "## using List comprehension\n",
    "list4 = [\n",
    "    list(range(i, i + 4))\n",
    "    for i  in range(2,6)\n",
    "]\n",
    "list4"
   ]
  },
  {
   "cell_type": "code",
   "execution_count": 7,
   "metadata": {},
   "outputs": [
    {
     "data": {
      "text/plain": [
       "[(1, 1), (2, 1), (3, 1), (1, 2), (2, 2), (3, 2), (1, 3), (2, 3), (3, 3)]"
      ]
     },
     "execution_count": 7,
     "metadata": {},
     "output_type": "execute_result"
    }
   ],
   "source": [
    "## Produce [(1, 1), (2, 1), (3, 1), (1, 2), (2, 2), (3, 2), (1, 3), (2, 3), (3, 3)]\n",
    "## using List comprehension\n",
    "list5 = [\n",
    "    (j, i)\n",
    "    for i in range(1, 4)\n",
    "    for j in range(1, 4)\n",
    "]\n",
    "list5"
   ]
  },
  {
   "cell_type": "code",
   "execution_count": null,
   "metadata": {},
   "outputs": [],
   "source": []
  }
 ],
 "metadata": {
  "kernelspec": {
   "display_name": "Python 3",
   "language": "python",
   "name": "python3"
  },
  "language_info": {
   "codemirror_mode": {
    "name": "ipython",
    "version": 3
   },
   "file_extension": ".py",
   "mimetype": "text/x-python",
   "name": "python",
   "nbconvert_exporter": "python",
   "pygments_lexer": "ipython3",
   "version": "3.8.5"
  }
 },
 "nbformat": 4,
 "nbformat_minor": 4
}
